{
 "cells": [
  {
   "cell_type": "code",
   "execution_count": null,
   "id": "d0e51c40",
   "metadata": {
    "vscode": {
     "languageId": "plaintext"
    }
   },
   "outputs": [],
   "source": [
    "from pybot01 import get_current_price, get_pe_ratio\n",
    "\n",
    "ticker = \"AAPL\"\n",
    "print(\"Price:\", get_current_price(ticker))\n",
    "print(\"P/E Ratio:\", get_pe_ratio(ticker))\n"
   ]
  }
 ],
 "metadata": {
  "language_info": {
   "name": "python"
  }
 },
 "nbformat": 4,
 "nbformat_minor": 5
}
